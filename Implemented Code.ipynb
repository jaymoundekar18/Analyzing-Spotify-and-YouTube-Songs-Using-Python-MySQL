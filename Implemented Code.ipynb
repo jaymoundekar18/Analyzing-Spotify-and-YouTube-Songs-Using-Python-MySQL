{
 "cells": [
  {
   "cell_type": "markdown",
   "id": "541dcd2f",
   "metadata": {},
   "source": [
    "### Analyzing Spotify and YouTube Songs Using Python & MySQL"
   ]
  },
  {
   "cell_type": "markdown",
   "id": "3fdbbedf",
   "metadata": {},
   "source": [
    "### Python Code"
   ]
  },
  {
   "cell_type": "code",
   "execution_count": null,
   "id": "4c6ed439",
   "metadata": {},
   "outputs": [],
   "source": [
    "import pandas as pd\n",
    "import warnings\n",
    "warnings.filterwarnings(\"ignore\")\n",
    "#do not change the predefined function names"
   ]
  },
  {
   "cell_type": "code",
   "execution_count": null,
   "id": "6cf1b179",
   "metadata": {},
   "outputs": [],
   "source": [
    "#Task 1: Remove columns that are not needed in our analysis.\n",
    "# Remove Url_spotify, Uri, Key, Url_youtube, Description\n",
    "\n",
    "def Remove_columns():\n",
    "#do not remove following line of code\n",
    "    df = pd.read_csv('Spotify_Youtuben.csv')\n",
    "#WRITE YOUR CODE HERE\n",
    "    df =df.drop(columns=[\"Url_spotify\",\"Uri\",\"Key\",\"Url_youtube\",\"Description\"])\n",
    "#return dataframe\n",
    "    return df"
   ]
  },
  {
   "cell_type": "code",
   "execution_count": null,
   "id": "f4e7bee2",
   "metadata": {},
   "outputs": [],
   "source": [
    "#Task 2: Check for the null values\n",
    "\n",
    "def no_of_null_values():\n",
    "#Do not remove the following code statment\n",
    "    df=Remove_columns()\n",
    "    df= df.isnull().sum()\n",
    "#return sum of null values by columns\n",
    "    return df"
   ]
  },
  {
   "cell_type": "code",
   "execution_count": null,
   "id": "79e192c6",
   "metadata": {},
   "outputs": [],
   "source": [
    "#Task 3: Handle the null values replace int value with 0 and other values with NA\n",
    "\n",
    "def Handle_Null_values():\n",
    "#Do not remove the following code statment\n",
    "    df=Remove_columns()\n",
    "    \n",
    "#df.select_dtypes(include = 'int').fillna(0, inplace = True)\n",
    "#df.fillna(\"NA\",inplace = True)\n",
    "df=df.fillna(0)\n",
    "    df=df.dropna(subset=['Title','Channel'])\n",
    "    df=df.replace('/','',regex=True)\n",
    "    \n",
    "#return dataframe\n",
    "    return df"
   ]
  },
  {
   "cell_type": "code",
   "execution_count": null,
   "id": "4d75bc22",
   "metadata": {},
   "outputs": [],
   "source": [
    "#Task 4: CHECK FOR DUPLICATES AND REMOVE THEM KEEPING THE FIRST VALUE\n",
    "\n",
    "def drop_the_duplicates():\n",
    "    \n",
    "#Do not remove the following code statment\n",
    "    df=Handle_Null_values()\n",
    "\n",
    "    #drop_the_duplicates()\n",
    "    df.drop_duplicates(keep='first', inplace=True)\n",
    "\n",
    "#return dataframe\n",
    "    return df"
   ]
  },
  {
   "cell_type": "code",
   "execution_count": null,
   "id": "842a4b94",
   "metadata": {},
   "outputs": [],
   "source": [
    "#Task 5: CONVERT millisecond duration to minute for a better understanding\n",
    "\n",
    "def convert_milisecond_to_Minute():\n",
    "#Do not remove the following code statment\n",
    "    df=drop_the_duplicates()\n",
    "    \n",
    "    df['Duration_ms'] = pd.to_numeric(df['Duration_ms'],errors='coerce')\n",
    "    df['Duration_ms'] = df['Duration_ms'] / 60000\n",
    "\n",
    "    #return dataframe\n",
    "    return df"
   ]
  },
  {
   "cell_type": "code",
   "execution_count": null,
   "id": "ab28a8c9",
   "metadata": {},
   "outputs": [],
   "source": [
    "#Task 6: Rename the modified column to Duration_min\n",
    "\n",
    "def rename_modified_column():\n",
    "#Do not remove the following code statment\n",
    "    df=convert_milisecond_to_Minute()\n",
    "  \n",
    "    #WRITE YOUR CODE HERE\n",
    "    df.rename(columns={'Duration_ms':'Duration_min'},inplace=True)\n",
    "\n",
    "    #return dataframe\n",
    "    return df"
   ]
  },
  {
   "cell_type": "code",
   "execution_count": null,
   "id": "78c28266",
   "metadata": {},
   "outputs": [],
   "source": [
    "#Task 7: Remove irrelevant 'Track' name that starts with ?\n",
    "\n",
    "def Irrelevant_Track_name():\n",
    "#Do not remove the following code statment\n",
    "    df=rename_modified_column()\n",
    "\n",
    "    #WRITE YOUR CODE HERE\n",
    "    df = df[~df['Track'].str.startswith('?')|df['Track'].isnull()]\n",
    "    \n",
    "    #return dataframe\n",
    "    return df"
   ]
  },
  {
   "cell_type": "code",
   "execution_count": null,
   "id": "4eda675e",
   "metadata": {},
   "outputs": [],
   "source": [
    "#Task 8: Calculate the Energy to Liveness ratio for each track and store it in columns 'EnergyLiveness'\n",
    "\n",
    "def Energy_to_liveness_Ratio():\n",
    "\n",
    "    #Do not remove the following code statment\n",
    "    df=Irrelevant_Track_name()\n",
    "    \n",
    "    #WRITE YOUR CODE HERE\n",
    "    df['EnergyLiveness'] = df['Energy'] / df['Liveness']\n",
    "\n",
    "    #return dataframe\n",
    "    return df"
   ]
  },
  {
   "cell_type": "code",
   "execution_count": null,
   "id": "a5e4c01f",
   "metadata": {},
   "outputs": [],
   "source": [
    "#Task 9: change the datatype of 'views' to float for further use\n",
    "\n",
    "def change_the_datatype():\n",
    "    #Do not remove the following code statment\n",
    "    df=Energy_to_liveness_Ratio()\n",
    "    \n",
    "    #WRITE YOUR CODE HERE\n",
    "    df['Views'] = df['Views'].astype(float)\n",
    "\n",
    "    #return dataframe\n",
    "    return df"
   ]
  },
  {
   "cell_type": "code",
   "execution_count": null,
   "id": "2cba293f",
   "metadata": {},
   "outputs": [],
   "source": [
    "#Task 10: compare the views and stream columns to infer\n",
    "# that the song track was more played on which platform, youtube or Spotify.\n",
    "# Create a column named most_playedon which will have two values.\n",
    "# Spotify and Youtube,If a song track is most played on youtube then\n",
    "# the most_played on column will have youtube as the value for that particular song\n",
    "\n",
    "def compare_the_views():\n",
    "    #Do not remove the following code statment\n",
    "    df=change_the_datatype()\n",
    "    \n",
    "    #WRITE YOUR CODE HERE\n",
    "    df['Stream'] = df['Stream'].astype(float)\n",
    "    df['most_playedon'] = df.apply(lambda x: 'Spotify' if x['Stream']    > x['Views'] else 'Youtube', axis=1)\n",
    "    df['most_playedon']=df['most_playedon'].str.title()\n",
    "\n",
    "    return df"
   ]
  },
  {
   "cell_type": "code",
   "execution_count": null,
   "id": "0f2799b9",
   "metadata": {},
   "outputs": [],
   "source": [
    "#Task 11: export the cleaned dataset to CSV to \"cleaned_dataset.csv\"\n",
    "\n",
    "def export_the_cleaned_dataset():\n",
    "    #Do not remove the following code statment\n",
    "    df=compare_the_views()\n",
    "    \n",
    "    #create csv file \"cleaned_dataset.csv\" using dataframe\n",
    "    #WRITE YOUR CODE HERE\n",
    "    df.to_csv(\"cleaned_dataset.csv\",index=False)"
   ]
  },
  {
   "cell_type": "code",
   "execution_count": null,
   "id": "ec71554d",
   "metadata": {},
   "outputs": [],
   "source": [
    "#TASK 12\n",
    "\n",
    "#follow the instruction in the Task 13 description and complete the task as per it.\n",
    "#check if mysql table is created using \"cleaned_dataset.csv\"\n",
    "#Use this final dataset and upload it on the provided database for performing analysis in MySQL\n",
    "#To run this task click on the terminal and click on the run projec"
   ]
  },
  {
   "cell_type": "markdown",
   "id": "5bf3e997",
   "metadata": {},
   "source": [
    "### MYSQL Code"
   ]
  },
  {
   "cell_type": "markdown",
   "id": "e53af1da",
   "metadata": {},
   "source": [
    "#### TASK 1\n",
    "\n",
    "Which is the most viewed song track on youtube?\n",
    "\n",
    "SELECT Track, Views FROM cleaned_dataset ORDER BY Views DESC LIMIT 1;\n",
    "\n",
    "Total Records Fetched: 1 You will see maximum 50 records in your result Headers: Track,\n",
    "Views,\n",
    "\n",
    "Values:\n",
    "Despacito, 8079649362,"
   ]
  },
  {
   "cell_type": "markdown",
   "id": "d4b91299",
   "metadata": {},
   "source": [
    "#### TASK 2\n",
    "\n",
    "Which Song track is streamed most on Spotify?\n",
    "\n",
    "SELECT Track, Stream FROM cleaned_dataset ORDER BY Stream DESC LIMIT 1 ;\n",
    "\n",
    "Total Records Fetched: 1 You will see maximum 50 records in your result Headers: Track, Stream,\n",
    "\n",
    "Values:\n",
    "Blinding Lights, 3386520288,"
   ]
  },
  {
   "cell_type": "markdown",
   "id": "3b038b22",
   "metadata": {},
   "source": [
    "#### TASK 3\n",
    "\n",
    "EnergyLiveness ratio is one of the popular ways to measure the quality of the song, which are the top 5 songs that have the highest energyliveness ratio\n",
    "\n",
    "SELECT Track, (EnergyLiveness) AS EnergyLivenessRatio FROM cleaned_dataset ORDER BY EnergyLivenessRatio DESC LIMIT 5 ;\n",
    "\n",
    "Your Output: Total Records Fetched: 5 You will see maximum 50 records in your result\n",
    "\n",
    "Headers: Track, EnergyLivenessRatio,\n",
    "Values:\n",
    "These Words, nan,\n",
    "Rain in the Early Morning, nan,\n",
    "Dakota, 9.989258861,\n",
    "2 Baddies, 9.989154013,\n",
    "Over The Hills And Far Away, 9.989082969"
   ]
  },
  {
   "cell_type": "markdown",
   "id": "ba8af8e4",
   "metadata": {},
   "source": [
    "#### TASK 4\n",
    "\n",
    "Let us assume a situation where an artist named Black Eyed Peas wants to analyze his songs. The artist wants to know which platform is capable of keeping his song track\n",
    "more engaged. To check this he assigns you this task and wants you to report to him where his song tracks are more played on. compare the platforms.\n",
    "\n",
    "SELECT COUNT(Track) AS TotalTrack, most_playedon FROM cleaned_dataset WHERE Artist = \"Black Eyed Peas\" GROUP BY most_playedon ORDER BY TotalTrack DESC;"
   ]
  },
  {
   "cell_type": "markdown",
   "id": "187767c6",
   "metadata": {},
   "source": [
    "#### TASK 5\n",
    "\n",
    "Gorillaz wants to know their most liked song on youtube. Report to them with their most liked song along with the Energy and Tempo of the song.\n",
    "\n",
    "SELECT Track, Energy, Tempo, Likes FROM cleaned_dataset WHERE Artist = 'Gorillaz' ORDER BY Likes DESC LIMIT 1;\n",
    "\n",
    "Your Output: \n",
    "Total Records Fetched: 1 You will see maximum 50 records in your result\n",
    "Headers: Track, Energy, Tempo, Likes,\n",
    "Values:\n",
    "Feel Good Inc., 0.705000, 138.559, 6220896,"
   ]
  },
  {
   "cell_type": "markdown",
   "id": "68b05d8d",
   "metadata": {},
   "source": [
    "#### TASK 6\n",
    "\n",
    "Which Album types are more prominent on Spotify?\n",
    "\n",
    "SELECT Album_type, COUNT(Album_type) from cleaned_dataset GROUP BY Album_type ORDER BY COUNT(Album_type) DESC;\n",
    "\n",
    "Your Output: Total Records Fetched: 3 You will see maximum 50 records in your result\n",
    "\n",
    "Headers: Album_type, count(Album_type),\n",
    "Values:\n",
    "album, 14834,\n",
    "single, 4973,\n",
    "compilation, 787,"
   ]
  },
  {
   "cell_type": "markdown",
   "id": "2b7f2d96",
   "metadata": {},
   "source": [
    "#### TASK 7\n",
    "\n",
    "Spotify's most loved song tracks are to be declared soon. Help Spotify choose the top 5 most streamed+youtube viewed song track\n",
    "\n",
    "SELECT Track, (Stream + Views) AS Total FROM cleaned_dataset GROUP BY Track ORDER BY Total DESC LIMIT 5;"
   ]
  }
 ],
 "metadata": {
  "kernelspec": {
   "display_name": "Python 3 (ipykernel)",
   "language": "python",
   "name": "python3"
  },
  "language_info": {
   "codemirror_mode": {
    "name": "ipython",
    "version": 3
   },
   "file_extension": ".py",
   "mimetype": "text/x-python",
   "name": "python",
   "nbconvert_exporter": "python",
   "pygments_lexer": "ipython3",
   "version": "3.9.13"
  }
 },
 "nbformat": 4,
 "nbformat_minor": 5
}
